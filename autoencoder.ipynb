{
  "cells": [
    {
      "cell_type": "code",
      "execution_count": 1,
      "metadata": {
        "id": "gloBzhmcN_Ie"
      },
      "outputs": [],
      "source": [
        "import tensorflow\n",
        "from tensorflow import keras\n",
        "from keras.models import Model\n",
        "from keras.layers import Input, Flatten, Conv2D, Dense, Conv2DTranspose, Reshape, BatchNormalization, MaxPooling2D, UpSampling2D\n",
        "from keras.datasets import mnist\n",
        "import numpy as np\n",
        "import matplotlib.pyplot as plt"
      ]
    },
    {
      "cell_type": "code",
      "execution_count": 10,
      "metadata": {
        "colab": {
          "base_uri": "https://localhost:8080/"
        },
        "id": "aMGLqastN_Ii",
        "outputId": "89b4dd81-ae5b-42f1-a8b1-344b371ef8ed"
      },
      "outputs": [
        {
          "output_type": "execute_result",
          "data": {
            "text/plain": [
              "((60000, 28, 28), (10000, 28, 28))"
            ]
          },
          "metadata": {},
          "execution_count": 10
        }
      ],
      "source": [
        "# mnist dataset\n",
        "(x_train, _), (x_test, _) = mnist.load_data()\n",
        "x_train.shape, x_test.shape"
      ]
    },
    {
      "cell_type": "code",
      "source": [
        "plt.figure(figsize=(20, 2))\n",
        "for i in range(1, 5 + 1):\n",
        "    ax = plt.subplot(1, 5, i)\n",
        "    plt.imshow(x_train[i].reshape(28, 28))\n",
        "    plt.gray()\n",
        "    ax.get_xaxis().set_visible(False)\n",
        "    ax.get_yaxis().set_visible(False)\n",
        "plt.show()"
      ],
      "metadata": {
        "colab": {
          "base_uri": "https://localhost:8080/",
          "height": 170
        },
        "id": "6iZqfJB_Zc9j",
        "outputId": "862d163e-388a-4e03-e0cc-f26ec17978d0"
      },
      "execution_count": 18,
      "outputs": [
        {
          "output_type": "display_data",
          "data": {
            "text/plain": [
              "<Figure size 2000x200 with 5 Axes>"
            ],
            "image/png": "[encoded data removed]"
          },
          "metadata": {}
        }
      ]
    },
    {
      "cell_type": "markdown",
      "source": [
        "### preprocessing"
      ],
      "metadata": {
        "id": "w7XnM297UHGd"
      }
    },
    {
      "cell_type": "code",
      "source": [
        "x_train = x_train.astype('float')/255\n",
        "x_test = x_test.astype('float')/255"
      ],
      "metadata": {
        "id": "q5tkZg3OUJ2m"
      },
      "execution_count": 12,
      "outputs": []
    },
    {
      "cell_type": "code",
      "source": [
        "x_train[0][20][:20]"
      ],
      "metadata": {
        "colab": {
          "base_uri": "https://localhost:8080/"
        },
        "id": "onMvUzyKUpnC",
        "outputId": "9312d5c3-a1f3-46d4-a42c-76304d1e698f"
      },
      "execution_count": 13,
      "outputs": [
        {
          "output_type": "execute_result",
          "data": {
            "text/plain": [
              "array([0.        , 0.        , 0.        , 0.        , 0.        ,\n",
              "       0.        , 0.        , 0.        , 0.        , 0.        ,\n",
              "       0.09411765, 0.44705882, 0.86666667, 0.99215686, 0.99215686,\n",
              "       0.99215686, 0.99215686, 0.78823529, 0.30588235, 0.        ])"
            ]
          },
          "metadata": {},
          "execution_count": 13
        }
      ]
    },
    {
      "cell_type": "code",
      "execution_count": 14,
      "metadata": {
        "colab": {
          "base_uri": "https://localhost:8080/"
        },
        "id": "X6lAMWW4N_It",
        "outputId": "da3d7c7e-bb7d-477a-f3f7-f892cfc7cd3b"
      },
      "outputs": [
        {
          "output_type": "execute_result",
          "data": {
            "text/plain": [
              "(60000, 28, 28, 1)"
            ]
          },
          "metadata": {},
          "execution_count": 14
        }
      ],
      "source": [
        "x_train_preprocessed = np.expand_dims(x_train, axis=-1)\n",
        "x_test_preprocessed = np.expand_dims(x_test, axis=-1)\n",
        "x_train_preprocessed.shape"
      ]
    },
    {
      "cell_type": "markdown",
      "metadata": {
        "id": "pZa2rYIJN_Io"
      },
      "source": [
        "#generate noisy data"
      ]
    },
    {
      "cell_type": "code",
      "execution_count": 15,
      "metadata": {
        "id": "O936h0yuN_Iw"
      },
      "outputs": [],
      "source": [
        "noise_factor = 0.7\n",
        "x_train_noisy = x_train_preprocessed + noise_factor * np.random.normal(loc=0.0, scale=1.0, size=x_train_preprocessed.shape)\n",
        "x_test_noisy = x_test_preprocessed + noise_factor * np.random.normal(loc=0.0, scale=1.0, size=x_test_preprocessed.shape)\n",
        "\n",
        "# Clip the pixel values to be in the range [0, 1]\n",
        "x_train_noisy = np.clip(x_train_noisy, 0., 1.)\n",
        "x_test_noisy = np.clip(x_test_noisy, 0., 1.)"
      ]
    },
    {
      "cell_type": "code",
      "source": [
        "plt.figure(figsize=(20, 2))\n",
        "for i in range(1, 5 + 1):\n",
        "    ax = plt.subplot(1, 5, i)\n",
        "    plt.imshow(x_train_noisy[i].reshape(28, 28))\n",
        "    plt.gray()\n",
        "    ax.get_xaxis().set_visible(False)\n",
        "    ax.get_yaxis().set_visible(False)\n",
        "plt.show()"
      ],
      "metadata": {
        "colab": {
          "base_uri": "https://localhost:8080/",
          "height": 170
        },
        "id": "hOlj6MQqUZtn",
        "outputId": "ea3715f7-b882-4393-8717-2bc1df80624a"
      },
      "execution_count": 16,
      "outputs": [
        {
          "output_type": "display_data",
          "data": {
            "text/plain": [
              "<Figure size 2000x200 with 5 Axes>"
            ],
            "image/png": "[encoded data removed]"
          },
          "metadata": {}
        }
      ]
    },
    {
      "cell_type": "markdown",
      "metadata": {
        "id": "dacl-rMYN_I2"
      },
      "source": [
        "### code for encoder"
      ]
    },
    {
      "cell_type": "markdown",
      "metadata": {
        "id": "dINzXJy_N_I4"
      },
      "source": [
        "#### The architecture using the Functional API"
      ]
    },
    {
      "cell_type": "code",
      "execution_count": 19,
      "metadata": {
        "id": "YiDSSthAN_I5"
      },
      "outputs": [],
      "source": [
        "encoder_input = Input(shape = (28,28,1))\n",
        "conv_1 = Conv2D(32, 3, strides=2, padding='SAME')(encoder_input)\n",
        "# conv_1 = MaxPooling2D(2, padding='SAME')(conv_1)\n",
        "conv_2 = Conv2D(64, 3, strides=2, padding='SAME')(conv_1)\n",
        "# encoder_output = MaxPooling2D(2, padding='SAME')(conv_2)\n",
        "flatten = Flatten()(conv_2)\n",
        "encoder_output = Dense(2, activation= 'relu', kernel_initializer='he_normal')(flatten)"
      ]
    },
    {
      "cell_type": "code",
      "execution_count": 20,
      "metadata": {
        "colab": {
          "base_uri": "https://localhost:8080/"
        },
        "id": "_hYFo7U5N_I7",
        "outputId": "b1a82844-bec7-48dd-effa-8b9f10498670"
      },
      "outputs": [
        {
          "output_type": "stream",
          "name": "stdout",
          "text": [
            "Model: \"model\"\n",
            "_________________________________________________________________\n",
            " Layer (type)                Output Shape              Param #   \n",
            "=================================================================\n",
            " input_1 (InputLayer)        [(None, 28, 28, 1)]       0         \n",
            "                                                                 \n",
            " conv2d (Conv2D)             (None, 14, 14, 32)        320       \n",
            "                                                                 \n",
            " conv2d_1 (Conv2D)           (None, 7, 7, 64)          18496     \n",
            "                                                                 \n",
            " flatten (Flatten)           (None, 3136)              0         \n",
            "                                                                 \n",
            " dense (Dense)               (None, 2)                 6274      \n",
            "                                                                 \n",
            "=================================================================\n",
            "Total params: 25090 (98.01 KB)\n",
            "Trainable params: 25090 (98.01 KB)\n",
            "Non-trainable params: 0 (0.00 Byte)\n",
            "_________________________________________________________________\n"
          ]
        }
      ],
      "source": [
        "Model(encoder_input, encoder_output).summary()"
      ]
    },
    {
      "cell_type": "markdown",
      "metadata": {
        "id": "Nh867F_KN_I9"
      },
      "source": [
        "#### decoder"
      ]
    },
    {
      "cell_type": "markdown",
      "metadata": {
        "id": "-9l475BkN_JL"
      },
      "source": [
        "#### code for decoder using Functional API"
      ]
    },
    {
      "cell_type": "code",
      "execution_count": 21,
      "metadata": {
        "id": "mpbTAPekN_I-"
      },
      "outputs": [],
      "source": [
        "decoder_input = Dense(7*7*64, activation= 'relu')(encoder_output)\n",
        "reshape = Reshape((7,7,64))(decoder_input)\n",
        "conv_T1 = Conv2DTranspose(64, 3, strides=2, padding='SAME', activation='relu')(reshape)\n",
        "conv_T2 = Conv2DTranspose(32, 3, strides=2, padding='SAME', activation='relu')(conv_T1)\n",
        "decoder_output = Conv2DTranspose(1,3, padding='SAME', activation= 'sigmoid')(conv_T2)"
      ]
    },
    {
      "cell_type": "code",
      "execution_count": 22,
      "metadata": {
        "colab": {
          "base_uri": "https://localhost:8080/"
        },
        "id": "x45I8oMXN_I_",
        "outputId": "0d9b1945-4a9a-44e6-8f58-fe103a37ed7c"
      },
      "outputs": [
        {
          "output_type": "stream",
          "name": "stdout",
          "text": [
            "Model: \"model_1\"\n",
            "_________________________________________________________________\n",
            " Layer (type)                Output Shape              Param #   \n",
            "=================================================================\n",
            " input_2 (InputLayer)        [(None, 3136)]            0         \n",
            "                                                                 \n",
            " reshape (Reshape)           (None, 7, 7, 64)          0         \n",
            "                                                                 \n",
            " conv2d_transpose (Conv2DTr  (None, 14, 14, 64)        36928     \n",
            " anspose)                                                        \n",
            "                                                                 \n",
            " conv2d_transpose_1 (Conv2D  (None, 28, 28, 32)        18464     \n",
            " Transpose)                                                      \n",
            "                                                                 \n",
            " conv2d_transpose_2 (Conv2D  (None, 28, 28, 1)         289       \n",
            " Transpose)                                                      \n",
            "                                                                 \n",
            "=================================================================\n",
            "Total params: 55681 (217.50 KB)\n",
            "Trainable params: 55681 (217.50 KB)\n",
            "Non-trainable params: 0 (0.00 Byte)\n",
            "_________________________________________________________________\n"
          ]
        }
      ],
      "source": [
        "Model(decoder_input, decoder_output).summary()"
      ]
    },
    {
      "cell_type": "markdown",
      "metadata": {
        "id": "khmvKKiBN_JA"
      },
      "source": [
        "#### Autoencoder model"
      ]
    },
    {
      "cell_type": "code",
      "execution_count": 23,
      "metadata": {
        "id": "4dGrnQ5eN_JB"
      },
      "outputs": [],
      "source": [
        "autoEncoder = Model(encoder_input, decoder_output)\n",
        "optimizer = keras.optimizers.Adam(learning_rate=0.01)\n",
        "autoEncoder.compile(optimizer= 'adam', loss= 'binary_crossentropy', metrics= 'accuracy')"
      ]
    },
    {
      "cell_type": "code",
      "execution_count": 24,
      "metadata": {
        "colab": {
          "base_uri": "https://localhost:8080/"
        },
        "id": "g-EXIGT8N_JC",
        "outputId": "4603f94c-6eb6-44fd-c78a-ca141522c4c5"
      },
      "outputs": [
        {
          "output_type": "stream",
          "name": "stdout",
          "text": [
            "Model: \"model_2\"\n",
            "_________________________________________________________________\n",
            " Layer (type)                Output Shape              Param #   \n",
            "=================================================================\n",
            " input_1 (InputLayer)        [(None, 28, 28, 1)]       0         \n",
            "                                                                 \n",
            " conv2d (Conv2D)             (None, 14, 14, 32)        320       \n",
            "                                                                 \n",
            " conv2d_1 (Conv2D)           (None, 7, 7, 64)          18496     \n",
            "                                                                 \n",
            " flatten (Flatten)           (None, 3136)              0         \n",
            "                                                                 \n",
            " dense (Dense)               (None, 2)                 6274      \n",
            "                                                                 \n",
            " dense_1 (Dense)             (None, 3136)              9408      \n",
            "                                                                 \n",
            " reshape (Reshape)           (None, 7, 7, 64)          0         \n",
            "                                                                 \n",
            " conv2d_transpose (Conv2DTr  (None, 14, 14, 64)        36928     \n",
            " anspose)                                                        \n",
            "                                                                 \n",
            " conv2d_transpose_1 (Conv2D  (None, 28, 28, 32)        18464     \n",
            " Transpose)                                                      \n",
            "                                                                 \n",
            " conv2d_transpose_2 (Conv2D  (None, 28, 28, 1)         289       \n",
            " Transpose)                                                      \n",
            "                                                                 \n",
            "=================================================================\n",
            "Total params: 90179 (352.26 KB)\n",
            "Trainable params: 90179 (352.26 KB)\n",
            "Non-trainable params: 0 (0.00 Byte)\n",
            "_________________________________________________________________\n"
          ]
        }
      ],
      "source": [
        "autoEncoder.summary()"
      ]
    },
    {
      "cell_type": "code",
      "execution_count": 25,
      "metadata": {
        "colab": {
          "base_uri": "https://localhost:8080/"
        },
        "id": "9Q4cpeNsN_JI",
        "outputId": "5a518d1b-544d-4dc4-b022-e8b8b92c06d4"
      },
      "outputs": [
        {
          "output_type": "stream",
          "name": "stdout",
          "text": [
            "Epoch 1/10\n",
            "469/469 [==============================] - 11s 11ms/step - loss: 0.2710 - accuracy: 0.8030 - val_loss: 0.2348 - val_accuracy: 0.7888\n",
            "Epoch 2/10\n",
            "469/469 [==============================] - 4s 8ms/step - loss: 0.2289 - accuracy: 0.7932 - val_loss: 0.2260 - val_accuracy: 0.7935\n",
            "Epoch 3/10\n",
            "469/469 [==============================] - 4s 8ms/step - loss: 0.2252 - accuracy: 0.7945 - val_loss: 0.2238 - val_accuracy: 0.7932\n",
            "Epoch 4/10\n",
            "469/469 [==============================] - 4s 9ms/step - loss: 0.2243 - accuracy: 0.7951 - val_loss: 0.2253 - val_accuracy: 0.7899\n",
            "Epoch 5/10\n",
            "469/469 [==============================] - 4s 8ms/step - loss: 0.2238 - accuracy: 0.7955 - val_loss: 0.2235 - val_accuracy: 0.7906\n",
            "Epoch 6/10\n",
            "469/469 [==============================] - 4s 8ms/step - loss: 0.2236 - accuracy: 0.7956 - val_loss: 0.2229 - val_accuracy: 0.7950\n",
            "Epoch 7/10\n",
            "469/469 [==============================] - 4s 9ms/step - loss: 0.2234 - accuracy: 0.7958 - val_loss: 0.2226 - val_accuracy: 0.7955\n",
            "Epoch 8/10\n",
            "469/469 [==============================] - 4s 9ms/step - loss: 0.2231 - accuracy: 0.7959 - val_loss: 0.2230 - val_accuracy: 0.7952\n",
            "Epoch 9/10\n",
            "469/469 [==============================] - 4s 8ms/step - loss: 0.2231 - accuracy: 0.7960 - val_loss: 0.2224 - val_accuracy: 0.7947\n",
            "Epoch 10/10\n",
            "469/469 [==============================] - 4s 8ms/step - loss: 0.2230 - accuracy: 0.7960 - val_loss: 0.2228 - val_accuracy: 0.7961\n"
          ]
        },
        {
          "output_type": "execute_result",
          "data": {
            "text/plain": [
              "<keras.src.callbacks.History at 0x7b5125f7f940>"
            ]
          },
          "metadata": {},
          "execution_count": 25
        }
      ],
      "source": [
        "autoEncoder.fit(x_train_noisy, x_train_preprocessed, epochs=10, shuffle=True, validation_data = (x_test_noisy, x_test_preprocessed), batch_size=128)"
      ]
    },
    {
      "cell_type": "code",
      "source": [
        "y_pred = autoEncoder.predict(x_test_noisy)"
      ],
      "metadata": {
        "colab": {
          "base_uri": "https://localhost:8080/"
        },
        "id": "Rf6xpv1PcMSg",
        "outputId": "e086471b-8734-468b-9b6b-f31658e49463"
      },
      "execution_count": 26,
      "outputs": [
        {
          "output_type": "stream",
          "name": "stdout",
          "text": [
            "313/313 [==============================] - 1s 2ms/step\n"
          ]
        }
      ]
    },
    {
      "cell_type": "code",
      "source": [
        "plt.figure(figsize=(20, 4))\n",
        "for i in range(5):\n",
        "    # Display original\n",
        "    ax = plt.subplot(2, 5, i + 1)\n",
        "    plt.imshow(x_test_noisy[i].reshape(28, 28))\n",
        "    plt.gray()\n",
        "    ax.get_xaxis().set_visible(False)\n",
        "    ax.get_yaxis().set_visible(False)\n",
        "    # Display reconstruction\n",
        "    ax = plt.subplot(2, 5, i + 1 + 5)\n",
        "    plt.imshow(y_pred[i].reshape(28, 28))\n",
        "    plt.gray()\n",
        "    ax.get_xaxis().set_visible(False)\n",
        "    ax.get_yaxis().set_visible(False)\n",
        "plt.show()"
      ],
      "metadata": {
        "colab": {
          "base_uri": "https://localhost:8080/",
          "height": 308
        },
        "id": "7tbRjwKucdF5",
        "outputId": "3b826b58-912a-4240-9473-7dcb9962ee5b"
      },
      "execution_count": 27,
      "outputs": [
        {
          "output_type": "display_data",
          "data": {
            "text/plain": [
              "<Figure size 2000x400 with 10 Axes>"
            ],
            "image/png": "[encoded data removed]"
          },
          "metadata": {}
        }
      ]
    }
  ],
  "metadata": {
    "kernelspec": {
      "display_name": "Python 3",
      "name": "python3"
    },
    "language_info": {
      "codemirror_mode": {
        "name": "ipython",
        "version": 3
      },
      "file_extension": ".py",
      "mimetype": "text/x-python",
      "name": "python",
      "nbconvert_exporter": "python",
      "pygments_lexer": "ipython3",
      "version": "3.11.4"
    },
    "colab": {
      "provenance": [],
      "gpuType": "T4"
    },
    "accelerator": "GPU"
  },
  "nbformat": 4,
  "nbformat_minor": 0
}